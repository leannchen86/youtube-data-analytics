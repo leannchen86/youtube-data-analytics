{
 "cells": [
  {
   "cell_type": "code",
   "execution_count": 3,
   "id": "159f7167-f495-4edd-8767-938412f3e635",
   "metadata": {},
   "outputs": [],
   "source": [
    "def search_videos_chnl(query, channelId):\n",
    "    search_request = youtube.search().list(\n",
    "        part='snippet', q=query, channelId=channelId, type='video', order='viewCount', maxResults=50)\n",
    "    search_response = search_request.execute()\n",
    "    # while nextToken exists\n",
    "    return search_response"
   ]
  },
  {
   "cell_type": "code",
   "execution_count": 4,
   "id": "392e3d11-83e1-47ea-9d7b-15616cac4736",
   "metadata": {},
   "outputs": [],
   "source": [
    "def search_videos(query):\n",
    "    search_request = youtube.search().list(\n",
    "        part='snippet', q=query, type='video', order='viewCount', maxResults=50)\n",
    "    search_response = search_request.execute()\n",
    "    # while nextToken exists\n",
    "    return search_response"
   ]
  },
  {
   "cell_type": "code",
   "execution_count": 2,
   "id": "c006576a-1d83-4a1f-8171-9af10f33804d",
   "metadata": {},
   "outputs": [],
   "source": [
    "def get_relevant_videos(query, search_response):\n",
    "    vidId_dict = {}\n",
    "    for i in range(len(search_response['items'])):\n",
    "        video_id = search_response['items'][i]['id']['videoId']\n",
    "        vid_title = search_response['items'][i]['snippet']['title']\n",
    "        vidId_dict[video_id] = vid_title\n",
    "    vid_dict = {k:v for k,v in vidId_dict.items() if query in v}\n",
    "    return vid_dict"
   ]
  },
  {
   "cell_type": "code",
   "execution_count": 3,
   "id": "7335dded-f6f5-4dcb-961e-8763657b4c3a",
   "metadata": {},
   "outputs": [],
   "source": [
    "def get_video_stats(video_dict):\n",
    "    video_ids = list(video_dict.keys())\n",
    "    all_video_info = []\n",
    "    \n",
    "    request = youtube.videos().list(\n",
    "        part=\"snippet,contentDetails,statistics\",\n",
    "        id=','.join(video_ids)\n",
    "        )\n",
    "    response = request.execute() \n",
    " \n",
    "    for video in response['items']:\n",
    "        stats_to_keep = {'snippet': ['channelTitle', 'title', 'description', 'tags', 'publishedAt'],\n",
    "                         'statistics': ['viewCount', 'likeCount', 'favouriteCount', 'commentCount'],\n",
    "                         'contentDetails': ['duration', 'definition', 'caption']\n",
    "                        }\n",
    "        video_info = {}\n",
    "        video_info['video_id'] = video['id']\n",
    "\n",
    "        for k in stats_to_keep.keys():\n",
    "            for v in stats_to_keep[k]:\n",
    "                try:\n",
    "                    video_info[v] = video[k][v]\n",
    "                except:\n",
    "                    video_info[v] = None\n",
    "\n",
    "        all_video_info.append(video_info)\n",
    "    \n",
    "    return pd.DataFrame(all_video_info)"
   ]
  },
  {
   "cell_type": "code",
   "execution_count": 4,
   "id": "be22d77c-c40c-4486-bfc3-b9bb57dd9113",
   "metadata": {},
   "outputs": [],
   "source": [
    "def get_video_comments(video_df):\n",
    "    \n",
    "    drop_rows_wo_cmt = list(video_df.query('commentCount == \"0\" | commentCount.isnull()').index)\n",
    "    video_df.drop(drop_rows_wo_cmt, inplace=True)\n",
    "    video_ids = list(video_df.video_id)\n",
    "    \n",
    "    all_cmt_info = []\n",
    "    for vidId in video_ids:\n",
    "        \n",
    "        vid_comment_request = youtube.commentThreads().list(part='id, snippet', videoId=vidId, order='relevance',maxResults=100)\n",
    "        vid_comment_response = vid_comment_request.execute()\n",
    "        all_cmt_info = get_clean_comments(all_cmt_info, vid_comment_response, 100)\n",
    "    \n",
    "    return pd.DataFrame(all_cmt_info)"
   ]
  },
  {
   "cell_type": "code",
   "execution_count": 4,
   "id": "5c31435d-3cd3-4cb3-87d5-5a1d61881cfb",
   "metadata": {},
   "outputs": [],
   "source": [
    "def get_channel_comments(channelId):\n",
    "    chnl_comment_request = youtube.commentThreads().list(part='id, snippet', allThreadsRelatedToChannelId=channelId, order='relevance',maxResults=100)\n",
    "    chnl_comment_response = chnl_comment_request.execute()\n",
    "    \n",
    "    all_cmt_info = []\n",
    "    all_cmt_info = get_clean_comments(all_cmt_info, chnl_comment_response, 0)\n",
    "    \n",
    "    while chnl_comment_response.get('nextPageToken', None):\n",
    "        chnl_comment_request = youtube.commentThreads().list(\n",
    "            part='id, snippet',\n",
    "            allThreadsRelatedToChannelId=channelId, \n",
    "            order='relevance',\n",
    "            maxResults=100,\n",
    "            pageToken=chnl_comment_response['nextPageToken']\n",
    "        )\n",
    "        chnl_comment_response = chnl_comment_request.execute()\n",
    "        \n",
    "        all_cmt_info = get_clean_comments(all_cmt_info, chnl_comment_response, 0)\n",
    "        \n",
    "        if 'nextPageToken' in chnl_comment_response.keys():\n",
    "            continue\n",
    "        else:\n",
    "            break\n",
    "        \n",
    "    return pd.DataFrame(all_cmt_info)"
   ]
  },
  {
   "cell_type": "code",
   "execution_count": 1,
   "id": "e272f084-1a1f-4a6a-95c1-621e8a9b629a",
   "metadata": {},
   "outputs": [],
   "source": [
    "def get_clean_comments(all_cmt_info, comment_response, threshold):\n",
    "    \n",
    "    for item in comment_response['items']:\n",
    "        cmt_info = {}\n",
    "        cmt_likes = item['snippet']['topLevelComment']['snippet']['likeCount']\n",
    "        if cmt_likes >= threshold:\n",
    "            cmt_id = item['snippet']['topLevelComment']['id']\n",
    "            cmt_info['id'] = cmt_id\n",
    "            cmt_info['reply_count'] = item['snippet']['totalReplyCount']\n",
    "            # cmt_info['video_name'] = get_video_names(cmt_id)\n",
    "            stats_to_keep = ['videoId', 'textOriginal', 'authorDisplayName', 'publishedAt', 'likeCount']\n",
    "            for k in stats_to_keep:\n",
    "                try:\n",
    "                    cmt_info[k] = item['snippet']['topLevelComment']['snippet'][k]\n",
    "                except:\n",
    "                    cmt_info[k] = None\n",
    "            all_cmt_info.append(cmt_info)\n",
    "            \n",
    "        else:\n",
    "            continue\n",
    "\n",
    "    return all_cmt_info"
   ]
  },
  {
   "cell_type": "code",
   "execution_count": 5,
   "id": "74a6f1e0-744d-41f7-9422-eeb287acec4c",
   "metadata": {},
   "outputs": [],
   "source": [
    "def get_video_names(videoId):\n",
    "    video_request = youtube.videos().list(\n",
    "        part = 'id, snippet', \n",
    "        id = videoId, \n",
    "    )\n",
    "    video_response = video_request.execute()\n",
    "    video_name = video_response['items'][0]['snippet']['title']\n",
    "    return video_name"
   ]
  },
  {
   "cell_type": "code",
   "execution_count": 1,
   "id": "bff1f076-8199-4616-9715-bc0aa2a08e29",
   "metadata": {},
   "outputs": [],
   "source": [
    "def filtered_positive_comments(cmt):\n",
    "    keyword_lst = tuple(['great', 'excellent', 'outstanding', 'brilliant', 'knowledge', 'respect', 'subscribed', 'masterpiece',\\\n",
    "               'impressed', 'story', 'storytelling', 'informational', 'informative', 'entertaining', 'appreciated',\\\n",
    "               'amazing', 'awesome', 'gifted', 'storyteller', 'beautiful', 'wonderful', 'perfect', 'insight', 'best',\\\n",
    "               'fan', 'epic', 'love', 'genius', 'wow', 'thank', 'treasure', 'passion', 'pleasure', 'inform', 'educat',\\\n",
    "               'unreal', 'incredible', 'quality', 'well done', 'magnificent', 'master', 'appreciate', 'breakdown', 'kenshin',\\\n",
    "                'lawrence', 'expert', 'matrix']) \n",
    "    for w in keyword_lst:\n",
    "        if w in cmt:\n",
    "            return True\n",
    "        else:\n",
    "            if w != keyword_lst[-1]:\n",
    "                continue\n",
    "            else:\n",
    "                return False"
   ]
  },
  {
   "cell_type": "code",
   "execution_count": 1,
   "id": "cffd27cd-927c-44e9-ac03-acc196e66d15",
   "metadata": {},
   "outputs": [],
   "source": [
    "def get_author_comments(channelId, authorId):\n",
    "    df_auth_cmt = pd.DataFrame(columns = ['comment', 'likes', 'date', 'replies', 'comment_id', 'video_id', 'video_name']) \n",
    "    chnl_comment_request = youtube.commentThreads().list(part='id, snippet', allThreadsRelatedToChannelId=channelId, order='relevance',maxResults=100)\n",
    "    chnl_comment_response = chnl_comment_request.execute()\n",
    "    \n",
    "    get_clean_comments(df_chnl, chnl_comment_response)\n",
    "    \n",
    "    while chnl_comment_response.get('nextPageToken', None):\n",
    "        chnl_comment_request = youtube.commentThreads().list(\n",
    "            part='id, snippet',\n",
    "            allThreadsRelatedToChannelId=channelId, \n",
    "            order='relevance',\n",
    "            maxResults=100,\n",
    "            pageToken=chnl_comment_response['nextPageToken']\n",
    "        )\n",
    "        chnl_comment_response = chnl_comment_request.execute()\n",
    "        \n",
    "        get_clean_comments(df_chnl, chnl_comment_response)\n",
    "        \n",
    "        if 'nextPageToken' in chnl_comment_response.keys():\n",
    "            continue\n",
    "        else:\n",
    "            break\n",
    "        \n",
    "    return df_chnl"
   ]
  },
  {
   "cell_type": "code",
   "execution_count": 5,
   "id": "1d120158-1201-43bb-b28d-cca4f115687e",
   "metadata": {},
   "outputs": [],
   "source": [
    "def get_comment_replies(comment, reply_response):\n",
    "    for key, value in comment.items():\n",
    "        if comment['replies'] > 0:\n",
    "            for r in range(comment['replies']):\n",
    "                reply_txt = reply_response['items'][r]['snippet']['textOriginal']\n",
    "                comment[key].append(reply_txt)\n",
    "        break\n",
    "    return value"
   ]
  },
  {
   "cell_type": "code",
   "execution_count": 1,
   "id": "c31cc117-afc5-4317-a539-824ea0236573",
   "metadata": {},
   "outputs": [],
   "source": [
    "#retrieve replies for each comments if any (for a single video)\n",
    "def reply_response(parentId):\n",
    "    reply_request = youtube.comments().list(\n",
    "        part='id, snippet',parentId=parentId, maxResults=100)\n",
    "    reply = reply_request.execute()\n",
    "    return reply"
   ]
  },
  {
   "cell_type": "code",
   "execution_count": 3,
   "id": "c16a21b6-32a5-43df-b7a0-173a17bbe3e6",
   "metadata": {},
   "outputs": [],
   "source": [
    "def filtered_cmt_label(cmt, keyword_lst, index):\n",
    "    for w in keyword_lst:\n",
    "        if w in cmt:\n",
    "            return True\n",
    "        elif w != keyword_lst[-1]:\n",
    "            continue\n",
    "        else:\n",
    "            return False"
   ]
  },
  {
   "cell_type": "code",
   "execution_count": null,
   "id": "9740ecc6-b89b-4a88-9840-09d2c80a17b8",
   "metadata": {},
   "outputs": [],
   "source": []
  }
 ],
 "metadata": {
  "kernelspec": {
   "display_name": "Python 3 (ipykernel)",
   "language": "python",
   "name": "python3"
  },
  "language_info": {
   "codemirror_mode": {
    "name": "ipython",
    "version": 3
   },
   "file_extension": ".py",
   "mimetype": "text/x-python",
   "name": "python",
   "nbconvert_exporter": "python",
   "pygments_lexer": "ipython3",
   "version": "3.9.9"
  }
 },
 "nbformat": 4,
 "nbformat_minor": 5
}
